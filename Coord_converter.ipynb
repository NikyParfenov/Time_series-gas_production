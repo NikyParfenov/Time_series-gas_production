{
 "cells": [
  {
   "cell_type": "code",
   "execution_count": 1,
   "metadata": {},
   "outputs": [],
   "source": [
    "import re\n",
    "import pandas as pd"
   ]
  },
  {
   "cell_type": "code",
   "execution_count": 8,
   "metadata": {},
   "outputs": [],
   "source": [
    "coord = pd.read_csv(\"coord_ini.csv\", header=0)"
   ]
  },
  {
   "cell_type": "code",
   "execution_count": 9,
   "metadata": {},
   "outputs": [],
   "source": [
    "coord['Coords'] = coord.apply(lambda row: re.split(r'\\|', row['Coords']), axis=1)\n",
    "coord['Latitude'] = coord.apply(lambda row: int(re.findall(r'\\s+\\w+°', row['Coords'][0])[0][1:-1]) + \\\n",
    "                                            int(re.findall(r'°+\\w+′', row['Coords'][0])[0][1:-1]) / 60 + \\\n",
    "                                            float(re.findall(r'′+\\w*.\\w+″', row['Coords'][0])[0][1:-1]) / 3600\n",
    "                                , axis=1)\n",
    "coord['Longitude'] = coord.apply(lambda row: int(re.findall(r'\\s+\\w+°', row['Coords'][1])[0][1:-1]) + \\\n",
    "                                             int(re.findall(r'°+\\w+′', row['Coords'][1])[0][1:-1]) / 60 + \\\n",
    "                                             float(re.findall(r'′+\\w*.\\w+″', row['Coords'][1])[0][1:-1]) / 3600\n",
    "                                , axis=1)\n",
    "coord.drop(columns='Coords', inplace=True)"
   ]
  },
  {
   "cell_type": "code",
   "execution_count": 10,
   "metadata": {},
   "outputs": [],
   "source": [
    "coord.to_excel('Coordinates.xlsx', index=False)"
   ]
  },
  {
   "cell_type": "code",
   "execution_count": null,
   "metadata": {},
   "outputs": [],
   "source": []
  }
 ],
 "metadata": {
  "kernelspec": {
   "display_name": "Python 3",
   "language": "python",
   "name": "python3"
  },
  "language_info": {
   "codemirror_mode": {
    "name": "ipython",
    "version": 3
   },
   "file_extension": ".py",
   "mimetype": "text/x-python",
   "name": "python",
   "nbconvert_exporter": "python",
   "pygments_lexer": "ipython3",
   "version": "3.8.10"
  }
 },
 "nbformat": 4,
 "nbformat_minor": 4
}
